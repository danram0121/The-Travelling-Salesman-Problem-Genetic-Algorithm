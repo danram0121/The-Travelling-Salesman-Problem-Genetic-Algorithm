{
 "cells": [
  {
   "attachments": {},
   "cell_type": "markdown",
   "metadata": {},
   "source": [
    "# CAP 4630 Intro to AI\n",
    "# Project 2 - The Traveling Salesman Problem (TSP) using Genetic Algorithms (GA)\n",
    "## Contributors: John Kantlehner, Daniel Ramirez, and Brandon Rojas\n",
    "## Start Date: 06/19/2023\n",
    "## End Date: 06/21/2023\n",
    "---"
   ]
  },
  {
   "attachments": {},
   "cell_type": "markdown",
   "metadata": {},
   "source": [
    "# **Genetic Algorithm**\n",
    "\n",
    "“Evolution suggests that organisms evolve through reproduction by producing children of mixed genes from their parents. Given the fitness of these individuals in their environment, stronger individuals have a higher likelihood of survival.” (Grokking 91-92).\n",
    "\n",
    "The Genetic Algorithm (GA) is in the family of evolutionary algorithms and employs its own evolutionary premises.\n",
    "The GA employs concepts like population, natural selection, fitness, parents, offspring, crossover, and mutation to provide iteratively generated and improved solutions, mimicking the process of evolution.\n",
    "\n",
    "\n",
    "Cycle of a Genetic Algorithm\n",
    "1. create population\n",
    " * random potential solutions that fit criteria\n",
    "2. measure fitness of individuals in population\n",
    " * determine strength of each solution using a fitness evaluation function\n",
    "3. select parents based on fitness\n",
    " * select parents that will produce offspring for the next generation\n",
    "4. reproduce individuals from parents\n",
    " * create offspring by mixing genes from parents and mutating\n",
    "5. populate next generation\n",
    " * select individuals and offspring that will survive on to the next generation\n",
    "\n",
    " A genetic algorithm essentially produces a random population of chromosomes / solutions and evolves each generation, seeking a global best solution within all of the generations. Doing a problem like TSP using brute force would take exceptionally long as its runtime is O(n!).\n",
    "\n",
    "---"
   ]
  },
  {
   "attachments": {},
   "cell_type": "markdown",
   "metadata": {},
   "source": [
    "**Starting code**\n",
    "- https://towardsdatascience.com/evolution-of-a-salesman-a-complete-genetic-algorithm-tutorial-for-python-6fe5d2b3ca35\n",
    "\n",
    "---"
   ]
  },
  {
   "attachments": {},
   "cell_type": "markdown",
   "metadata": {},
   "source": [
    "**How to Run**\n",
    "\n",
    "---\n",
    "\n",
    "**!** **Important run all cells prior to the Base Case as skippins cells will cause errors if necessary functions have not been run.**\n",
    "\n",
    "*   select __Runtime__ in the toolbar at the top of the page\n",
    "*   choose __Run all__\n",
    "</br>\n",
    "OR\n",
    "\n",
    "*   click __Run cell__ indicated by the ![Round play icon](data:image/png;base64,iVBORw0KGgoAAAANSUhEUgAAACcAAAAjCAYAAAAXMhMjAAAAAXNSR0IArs4c6QAAAARnQU1BAACxjwv8YQUAAAAJcEhZcwAADsMAAA7DAcdvqGQAAAIySURBVFhH7dZNq3FRFAfwhYS8pJQBEqV8Ay9F5pgoRgbMlEyJqYmJsXwAAzIwYGBOycsHkAkpKSlDBrjP3eeup+7JeY69j/vcDM5vcvZaon/O3uscxccn+HS5XMjlrSjx+pbkcFLJ4aR663A/NkrI93e7Hbe22+2g1Wq59SteCnc6nWAwGMB0OoX1eo3dL263G4LBIMRiMTCbzdhlIync/X6HdrsNnU4HrtcrdoWp1WpIp9OQSqWwQ4853O12g2q1CovFAjt0wuEwlEolUCrptznzgWg0GszBiNFoBK1WCys6TOFWqxUMh0Os+JxOJ67+rdvtwn6/x+o5pnC9Xg9Xj8rlMmSzWdHbRvYqOUC0qMORH57NZlgJI5u+Xq+D1WrFzqP5fA64zZ+iDkfGBs2h8Xq93L4MhULY4SOzkBwqGtThWEaNTqeDSqUCfr8fO3zH4xFX4qjDmUwmXD13Pp+hVqtxw1mIwWDAlTjqcEajkWrSL5dLyOfzMB6PscNnsVhAr9djJY46HOHz+XAljIyKYrEIh8MBO48CgQAoFAqsxDE9Icjzs1AoYMXncrlgs9lgJYyEajab4HA4sCOO6Z8jD/N4PI4V37NgRDKZpA5GMIUjcrnc09srJBKJQCaTwYrOr7yVkFCJRAI79CSF+4sM5n6/D5PJBLbbLXa/eDwe7n0uGo0yjaHvXgr3HZltZPqrVCqw2Wyg0WjwE+l+LNz/wHwgfpMcTio5nFRyOKneOBzAHw/38Oi4oKvdAAAAAElFTkSuQmCC) icon next to each code cell\n",
    "\n",
    "\n",
    "\n",
    "\n",
    "\n"
   ]
  },
  {
   "attachments": {},
   "cell_type": "markdown",
   "metadata": {},
   "source": [
    "## **Solving the Travelling Salesman Problem using a Genetic Algorithm**"
   ]
  },
  {
   "attachments": {},
   "cell_type": "markdown",
   "metadata": {},
   "source": [
    "### **Imports**"
   ]
  },
  {
   "cell_type": "code",
   "execution_count": 1,
   "metadata": {},
   "outputs": [],
   "source": [
    "import numpy as np\n",
    "import random\n",
    "import operator\n",
    "import pandas as pd\n",
    "import matplotlib.pyplot as plt\n",
    "from IPython.display import clear_output\n",
    "import time"
   ]
  },
  {
   "attachments": {},
   "cell_type": "markdown",
   "metadata": {},
   "source": [
    "### **Define City class**\n",
    "\n",
    "This **City** class allows us to create city objects, calculate the distance between cities and print a string representing the city's coordinates."
   ]
  },
  {
   "cell_type": "code",
   "execution_count": 2,
   "metadata": {},
   "outputs": [],
   "source": [
    "# City class\n",
    "class City:\n",
    "    def __init__(self, x, y):\n",
    "        self.x = x\n",
    "        self.y = y\n",
    "\n",
    "    def distance(self, city):\n",
    "        xDis = abs(self.x - city.x)\n",
    "        yDis = abs(self.y - city.y)\n",
    "        distance = np.sqrt((xDis ** 2) + (yDis ** 2))\n",
    "        return distance\n",
    "\n",
    "    def __repr__(self):\n",
    "        return \"(\" + str(self.x) + \",\" + str(self.y) + \")\""
   ]
  },
  {
   "attachments": {},
   "cell_type": "markdown",
   "metadata": {},
   "source": [
    "### **Define Fitness class**\n",
    "This **Fitness** class is used to calculate and store the distance and fitness of a route."
   ]
  },
  {
   "cell_type": "code",
   "execution_count": 3,
   "metadata": {},
   "outputs": [],
   "source": [
    "# Fitness class\n",
    "class Fitness:\n",
    "    def __init__(self, route):\n",
    "        self.route = route\n",
    "        self.distance = 0\n",
    "        self.fitness= 0.0\n",
    "\n",
    "    def routeDistance(self):\n",
    "        if self.distance ==0:\n",
    "            pathDistance = 0\n",
    "            for i in range(0, len(self.route)):\n",
    "                fromCity = self.route[i]\n",
    "                toCity = None\n",
    "                if i + 1 < len(self.route):\n",
    "                    toCity = self.route[i + 1]\n",
    "                else:\n",
    "                    toCity = self.route[0]\n",
    "                pathDistance += fromCity.distance(toCity)\n",
    "            self.distance = pathDistance\n",
    "        return self.distance\n",
    "\n",
    "    def routeFitness(self):\n",
    "        if self.fitness == 0:\n",
    "            self.fitness = 1 / float(self.routeDistance())\n",
    "        return self.fitness"
   ]
  },
  {
   "attachments": {},
   "cell_type": "markdown",
   "metadata": {},
   "source": [
    "### **Create Population, in this case Routes**\n",
    "\n",
    "Before we can create our population we define **createRoute()** which creates a random route from our list of cities."
   ]
  },
  {
   "cell_type": "code",
   "execution_count": 4,
   "metadata": {},
   "outputs": [],
   "source": [
    "def createRoute(cityList):\n",
    "    route = random.sample(cityList, len(cityList))\n",
    "    return route"
   ]
  },
  {
   "attachments": {},
   "cell_type": "markdown",
   "metadata": {},
   "source": [
    "The **initialPopulation()** function is what will create our first generation or set of routes."
   ]
  },
  {
   "cell_type": "code",
   "execution_count": 5,
   "metadata": {},
   "outputs": [],
   "source": [
    "def initialPopulation(popSize, cityList):\n",
    "    population = []\n",
    "\n",
    "    for i in range(0, popSize):\n",
    "        population.append(createRoute(cityList))\n",
    "    return population"
   ]
  },
  {
   "attachments": {},
   "cell_type": "markdown",
   "metadata": {},
   "source": [
    "### **Rank based on Fitness**\n",
    "The **rankRoute()** function is used rank the routes based on the fitness, since a higher fitness is better routes with lower ranks will get ranked towards the end of the list.\n",
    "\n",
    "Ranking is necessary as it will guide the evolution process using the fittest individuals.\n"
   ]
  },
  {
   "cell_type": "code",
   "execution_count": 6,
   "metadata": {},
   "outputs": [],
   "source": [
    "def rankRoutes(population):\n",
    "    fitnessResults = {}\n",
    "    for i in range(0,len(population)):\n",
    "        fitnessResults[i] = Fitness(population[i]).routeFitness()\n",
    "    return sorted(fitnessResults.items(), key = operator.itemgetter(1), reverse = True)"
   ]
  },
  {
   "cell_type": "code",
   "execution_count": 7,
   "metadata": {},
   "outputs": [],
   "source": [
    "def selection(popRanked, eliteSize):\n",
    "    selectionResults = []\n",
    "    df = pd.DataFrame(np.array(popRanked), columns=[\"Index\",\"Fitness\"])\n",
    "    df['cum_sum'] = df.Fitness.cumsum()\n",
    "    df['cum_perc'] = 100*df.cum_sum/df.Fitness.sum()\n",
    "    \n",
    "    for i in range(0, eliteSize):\n",
    "        selectionResults.append(popRanked[i][0])\n",
    "    for i in range(0, len(popRanked) - eliteSize):\n",
    "        pick = 100*random.random()\n",
    "        for i in range(0, len(popRanked)):\n",
    "            if pick <= df.iat[i,3]:\n",
    "                selectionResults.append(popRanked[i][0])\n",
    "                break\n",
    "    return selectionResults"
   ]
  },
  {
   "attachments": {},
   "cell_type": "markdown",
   "metadata": {},
   "source": [
    "Create mating pool"
   ]
  },
  {
   "cell_type": "code",
   "execution_count": 8,
   "metadata": {},
   "outputs": [],
   "source": [
    "def matingPool(population, selectionResults):\n",
    "    matingpool = []\n",
    "    for i in range(0, len(selectionResults)):\n",
    "        index = selectionResults[i]\n",
    "        matingpool.append(population[index])\n",
    "    return matingpool"
   ]
  },
  {
   "attachments": {},
   "cell_type": "markdown",
   "metadata": {},
   "source": [
    "### **Crossover**\n",
    "\n",
    "Implemented by the function **breed** selects random subsets of cities from parent1 and fills the remaining cities from parent2. Crossover allows the GA to explore new solutions using the characteristics of the parents."
   ]
  },
  {
   "cell_type": "code",
   "execution_count": 9,
   "metadata": {},
   "outputs": [],
   "source": [
    "def breed(parent1, parent2):\n",
    "    child = []\n",
    "    childP1 = []\n",
    "    childP2 = []\n",
    "    \n",
    "    geneA = int(random.random() * len(parent1))\n",
    "    geneB = int(random.random() * len(parent1))\n",
    "    \n",
    "    startGene = min(geneA, geneB)\n",
    "    endGene = max(geneA, geneB)\n",
    "\n",
    "    for i in range(startGene, endGene):\n",
    "        childP1.append(parent1[i])\n",
    "        \n",
    "    childP2 = [item for item in parent2 if item not in childP1]\n",
    "\n",
    "    child = childP1 + childP2\n",
    "    return child"
   ]
  },
  {
   "attachments": {},
   "cell_type": "markdown",
   "metadata": {},
   "source": [
    "Create function to run crossover over full mating pool"
   ]
  },
  {
   "cell_type": "code",
   "execution_count": 10,
   "metadata": {},
   "outputs": [],
   "source": [
    "def breedPopulation(matingpool, eliteSize):\n",
    "    children = []\n",
    "    length = len(matingpool) - eliteSize\n",
    "    pool = random.sample(matingpool, len(matingpool))\n",
    "\n",
    "    for i in range(0,eliteSize):\n",
    "        children.append(matingpool[i])\n",
    "    \n",
    "    for i in range(0, length):\n",
    "        child = breed(pool[i], pool[len(matingpool)-i-1])\n",
    "        children.append(child)\n",
    "    return children"
   ]
  },
  {
   "attachments": {},
   "cell_type": "markdown",
   "metadata": {},
   "source": [
    "### **Mutation**\n",
    "Mutating the population introduces random variations that can help in the search for the best route. Keep in mind increaseing the mutation rate increases the randomness which increases exploration but can have negative affects if too high."
   ]
  },
  {
   "cell_type": "code",
   "execution_count": 11,
   "metadata": {},
   "outputs": [],
   "source": [
    "def mutate(individual, mutationRate):\n",
    "    for swapped in range(len(individual)):\n",
    "        if(random.random() < mutationRate):\n",
    "            swapWith = int(random.random() * len(individual))\n",
    "            \n",
    "            city1 = individual[swapped]\n",
    "            city2 = individual[swapWith]\n",
    "            \n",
    "            individual[swapped] = city2\n",
    "            individual[swapWith] = city1\n",
    "    return individual"
   ]
  },
  {
   "attachments": {},
   "cell_type": "markdown",
   "metadata": {},
   "source": [
    "Create function to run mutation over entire population"
   ]
  },
  {
   "cell_type": "code",
   "execution_count": 12,
   "metadata": {},
   "outputs": [],
   "source": [
    "def mutatePopulation(population, mutationRate):\n",
    "    mutatedPop = []\n",
    "    \n",
    "    for ind in range(0, len(population)):\n",
    "        mutatedInd = mutate(population[ind], mutationRate)\n",
    "        mutatedPop.append(mutatedInd)\n",
    "    return mutatedPop"
   ]
  },
  {
   "attachments": {},
   "cell_type": "markdown",
   "metadata": {},
   "source": [
    "Put all steps together to create the next generation"
   ]
  },
  {
   "cell_type": "code",
   "execution_count": 13,
   "metadata": {},
   "outputs": [],
   "source": [
    "def nextGeneration(currentGen, eliteSize, mutationRate):\n",
    "    popRanked = rankRoutes(currentGen)\n",
    "    selectionResults = selection(popRanked, eliteSize)\n",
    "    matingpool = matingPool(currentGen, selectionResults)\n",
    "    children = breedPopulation(matingpool, eliteSize)\n",
    "    nextGeneration = mutatePopulation(children, mutationRate)\n",
    "    return nextGeneration"
   ]
  },
  {
   "attachments": {},
   "cell_type": "markdown",
   "metadata": {},
   "source": [
    "Final step: create the genetic algorithm"
   ]
  },
  {
   "cell_type": "code",
   "execution_count": 14,
   "metadata": {},
   "outputs": [],
   "source": [
    "def geneticAlgorithm(population, popSize, eliteSize, mutationRate, generations):\n",
    "    pop = initialPopulation(popSize, population)\n",
    "    print(\"Initial distance: \" + str(1 / rankRoutes(pop)[0][1]))\n",
    "    best_distance = 1 / rankRoutes(pop)[0][1]  # Store the best distance\n",
    "\n",
    "    for i in range(0, generations):\n",
    "        pop = nextGeneration(pop, eliteSize, mutationRate)\n",
    "        current_best_distance = 1 / rankRoutes(pop)[0][1]\n",
    "        if current_best_distance < best_distance:\n",
    "            best_distance = current_best_distance  # Update best distance if current is better\n",
    "            print(f\"New best distance of {best_distance} found at generation {i}\")\n",
    "        if i % 20 == 0:  # Every 20 generations\n",
    "            bestRouteIndex = rankRoutes(pop)[0][0]\n",
    "            bestRoute = pop[bestRouteIndex]\n",
    "            current_distance = 1 / Fitness(bestRoute).routeFitness()  # Get current generation's distance\n",
    "            clear_output(wait=True)\n",
    "            print(\"Generation #: \" + str(i))\n",
    "            print(\"Best distance so far: \" + str(best_distance))\n",
    "            print(\"Current distance: \" + str(current_distance))  # Print current generation's distance\n",
    "            plot_route(cityList, bestRoute)\n",
    "            time.sleep(1)\n",
    "\n",
    "    print(\"Final best distance: \" + str(best_distance))\n",
    "    bestRouteIndex = rankRoutes(pop)[0][0]\n",
    "    bestRoute = pop[bestRouteIndex]\n",
    "    return bestRoute"
   ]
  },
  {
   "attachments": {},
   "cell_type": "markdown",
   "metadata": {},
   "source": [
    "### **Visualization of Routes**"
   ]
  },
  {
   "cell_type": "code",
   "execution_count": 17,
   "metadata": {},
   "outputs": [],
   "source": [
    "def plot_route(cities, route):\n",
    "    x = [city.x for city in cities]\n",
    "    y = [city.y for city in cities]\n",
    "    plt.figure()\n",
    "    plt.scatter(x, y, color='blue')\n",
    "    for i in range(len(route)):\n",
    "        start_city = route[i]\n",
    "        end_city = route[(i+1)%len(route)]  # Use modulus to loop back to the start\n",
    "        plt.plot([start_city.x, end_city.x], [start_city.y, end_city.y], 'r-')\n",
    "    plt.show()"
   ]
  },
  {
   "attachments": {},
   "cell_type": "markdown",
   "metadata": {},
   "source": [
    "## Running the genetic algorithm"
   ]
  },
  {
   "attachments": {},
   "cell_type": "markdown",
   "metadata": {},
   "source": [
    "### **Create list of cities**"
   ]
  },
  {
   "cell_type": "code",
   "execution_count": 18,
   "metadata": {},
   "outputs": [],
   "source": [
    "cityList = []\n",
    "\n",
    "for i in range(0,25):\n",
    "    cityList.append(City(x=int(random.random() * 200), y=int(random.random() * 200)))"
   ]
  },
  {
   "attachments": {},
   "cell_type": "markdown",
   "metadata": {},
   "source": [
    "### **Run GA - Base Case**\n",
    "We can generate a base case for our optimal route using a Population size of 100, Elite size of 20, Mutation rate of 0.01, and 500 generations\n",
    "\n",
    "Additional test cases are performed on the city list that was generated. Running cell 19 after a test case will affect results as a new city list with random cities will be generated."
   ]
  },
  {
   "cell_type": "code",
   "execution_count": 21,
   "metadata": {},
   "outputs": [
    {
     "name": "stdout",
     "output_type": "stream",
     "text": [
      "Generation #: 480\n",
      "Best distance so far: 875.7753124152049\n",
      "Current distance: 878.4209057272782\n"
     ]
    },
    {
     "data": {
      "image/png": "[encoded data removed]",
      "text/plain": [
       "<Figure size 640x480 with 1 Axes>"
      ]
     },
     "metadata": {},
     "output_type": "display_data"
    },
    {
     "name": "stdout",
     "output_type": "stream",
     "text": [
      "Final best distance: 875.7753124152049\n"
     ]
    },
    {
     "data": {
      "image/png": "[encoded data removed]",
      "text/plain": [
       "<Figure size 640x480 with 1 Axes>"
      ]
     },
     "metadata": {},
     "output_type": "display_data"
    }
   ],
   "source": [
    "best_route = geneticAlgorithm(population=cityList, popSize=100, eliteSize=20, mutationRate=0.01, generations=500)\n",
    "plot_route(cityList, best_route)"
   ]
  },
  {
   "attachments": {},
   "cell_type": "markdown",
   "metadata": {},
   "source": [
    "### **Test Cases**\n",
    "Observation notes are documented in the main report although the test cases below"
   ]
  },
  {
   "attachments": {},
   "cell_type": "markdown",
   "metadata": {},
   "source": [
    "#### **Increase Mutation Rate to 0.05**"
   ]
  },
  {
   "cell_type": "code",
   "execution_count": null,
   "metadata": {},
   "outputs": [],
   "source": [
    "best_route = geneticAlgorithm(population=cityList, popSize=100, eliteSize=20, mutationRate=0.05, generations=500)\n",
    "plot_route(cityList, best_route)"
   ]
  },
  {
   "attachments": {},
   "cell_type": "markdown",
   "metadata": {},
   "source": [
    "#### **Change Population Size to 200**"
   ]
  },
  {
   "cell_type": "code",
   "execution_count": null,
   "metadata": {},
   "outputs": [],
   "source": [
    "best_route = geneticAlgorithm(population=cityList, popSize=200, eliteSize=20, mutationRate=0.01, generations=500)\n",
    "plot_route(cityList, best_route)"
   ]
  },
  {
   "attachments": {},
   "cell_type": "markdown",
   "metadata": {},
   "source": [
    "#### **Reduce Elite Size to 5**"
   ]
  },
  {
   "cell_type": "code",
   "execution_count": null,
   "metadata": {},
   "outputs": [],
   "source": [
    "best_route = geneticAlgorithm(population=cityList, popSize=100, eliteSize=5, mutationRate=0.01, generations=500)\n",
    "plot_route(cityList, best_route)"
   ]
  },
  {
   "attachments": {},
   "cell_type": "markdown",
   "metadata": {},
   "source": [
    "#### **Reduce Elite Size to 10**"
   ]
  },
  {
   "cell_type": "code",
   "execution_count": null,
   "metadata": {},
   "outputs": [],
   "source": [
    "best_route = geneticAlgorithm(population=cityList, popSize=100, eliteSize=10, mutationRate=0.01, generations=500)\n",
    "plot_route(cityList, best_route)"
   ]
  },
  {
   "attachments": {},
   "cell_type": "markdown",
   "metadata": {},
   "source": [
    "#### **Increase the number of Generations to 1000**\n"
   ]
  },
  {
   "cell_type": "code",
   "execution_count": null,
   "metadata": {},
   "outputs": [],
   "source": [
    "best_route = geneticAlgorithm(population=cityList, popSize=100, eliteSize=20, mutationRate=0.01, generations=1000)\n",
    "plot_route(cityList, best_route)"
   ]
  }
 ],
 "metadata": {
  "kernelspec": {
   "display_name": "Python 3",
   "language": "python",
   "name": "python3"
  },
  "language_info": {
   "codemirror_mode": {
    "name": "ipython",
    "version": 3
   },
   "file_extension": ".py",
   "mimetype": "text/x-python",
   "name": "python",
   "nbconvert_exporter": "python",
   "pygments_lexer": "ipython3",
   "version": "3.10.11"
  }
 },
 "nbformat": 4,
 "nbformat_minor": 2
}
